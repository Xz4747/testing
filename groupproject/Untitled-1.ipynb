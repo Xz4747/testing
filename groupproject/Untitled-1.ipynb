{
 "cells": [
  {
   "cell_type": "code",
   "execution_count": 1,
   "metadata": {},
   "outputs": [],
   "source": [
    "import pickle\n",
    "\n",
    "file_path = 'test.txt'\n",
    "with open(file_path, 'r') as file:\n",
    "    data = {}\n",
    "    for line in file:\n",
    "        if ': ' in line:\n",
    "            key, value = line.strip().split(': ')\n",
    "            data[key] = value"
   ]
  },
  {
   "cell_type": "code",
   "execution_count": 2,
   "metadata": {},
   "outputs": [],
   "source": [
    "pkl_file_path = 'test.pkl'\n",
    "with open(pkl_file_path, 'wb') as pkl_file:\n",
    "    pickle.dump(data, pkl_file)"
   ]
  },
  {
   "cell_type": "code",
   "execution_count": 3,
   "metadata": {},
   "outputs": [
    {
     "name": "stdout",
     "output_type": "stream",
     "text": [
      "Data from test.txt converted and saved to test.pkl as PKL.\n"
     ]
    }
   ],
   "source": [
    "print(f\"Data from {file_path} converted and saved to {pkl_file_path} as PKL.\")\n"
   ]
  }
 ],
 "metadata": {
  "kernelspec": {
   "display_name": "Python 3",
   "language": "python",
   "name": "python3"
  },
  "language_info": {
   "codemirror_mode": {
    "name": "ipython",
    "version": 3
   },
   "file_extension": ".py",
   "mimetype": "text/x-python",
   "name": "python",
   "nbconvert_exporter": "python",
   "pygments_lexer": "ipython3",
   "version": "3.11.4"
  },
  "orig_nbformat": 4
 },
 "nbformat": 4,
 "nbformat_minor": 2
}
