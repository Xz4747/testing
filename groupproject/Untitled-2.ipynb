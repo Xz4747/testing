{
 "cells": [
  {
   "cell_type": "code",
   "execution_count": 1,
   "metadata": {},
   "outputs": [
    {
     "name": "stdout",
     "output_type": "stream",
     "text": [
      "Conversion complete. CSV file saved as: test.csv\n"
     ]
    }
   ],
   "source": [
    "import csv\n",
    "\n",
    "# Input and output file names\n",
    "input_file = \"test.txt\"\n",
    "output_file = \"test.csv\"\n",
    "\n",
    "# Open the input and output files\n",
    "with open(input_file, \"r\") as infile, open(output_file, \"w\", newline=\"\") as outfile:\n",
    "    # Create a CSV writer object\n",
    "    csv_writer = csv.writer(outfile)\n",
    "\n",
    "    # Read lines from the input file and process them\n",
    "    for line in infile:\n",
    "        # Remove any leading/trailing whitespaces and split by commas\n",
    "        values = line.strip().split(\",\")\n",
    "\n",
    "        # Write the values as a row in the CSV file\n",
    "        csv_writer.writerow(values)\n",
    "\n",
    "print(\"Conversion complete. CSV file saved as:\", output_file)\n"
   ]
  }
 ],
 "metadata": {
  "kernelspec": {
   "display_name": "Python 3",
   "language": "python",
   "name": "python3"
  },
  "language_info": {
   "codemirror_mode": {
    "name": "ipython",
    "version": 3
   },
   "file_extension": ".py",
   "mimetype": "text/x-python",
   "name": "python",
   "nbconvert_exporter": "python",
   "pygments_lexer": "ipython3",
   "version": "3.11.4"
  },
  "orig_nbformat": 4
 },
 "nbformat": 4,
 "nbformat_minor": 2
}
